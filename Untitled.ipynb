{
 "cells": [
  {
   "cell_type": "markdown",
   "id": "071d84d5",
   "metadata": {},
   "source": [
    "Ans1:"
   ]
  },
  {
   "cell_type": "markdown",
   "id": "6b56dc17",
   "metadata": {},
   "source": [
    "Artificial Intelligence is a field of computer science that focuses on creating intelligent machines that can perform tasks that typically require human intelligence. An example of AI is virtual assistants such as Siri or Alexa\n",
    "\n",
    "Machine Learning is a subset of AI that focuses on teaching machines to learn from data, without being explicitly programmed. An example of machine learning is image recognition software that can identify objects in pictures by learning from a large dataset of labeled images.\n",
    "\n",
    "\n",
    "Deep Learning is a subset of machine learning that uses neural networks to learn from large amounts of data. Neural networks are algorithms that are modeled after the structure of the human brain, and they can recognize patterns and features in data with a high degree of accuracy. An example of deep learning is the use of self-driving cars\n",
    "    "
   ]
  },
  {
   "cell_type": "markdown",
   "id": "3454dc49",
   "metadata": {},
   "source": [
    "Ans2:\n",
    "\n",
    "Supervised learning is a type of machine learning algorithm in which the computer is trained to recognize patterns and relationships between input data and output data, based on labeled examples.\n",
    "\n",
    "Image classification, spam filtering etc."
   ]
  },
  {
   "cell_type": "markdown",
   "id": "6de6930f",
   "metadata": {},
   "source": [
    "Ans3:\n",
    "\n",
    "Unsupervised learning is a type of machine learning in which an algorithm is trained on a dataset without any specific guidance or labeled examples. \n",
    "Clustering, customer segmentation etc."
   ]
  },
  {
   "cell_type": "markdown",
   "id": "a685f704",
   "metadata": {},
   "source": [
    "Ans4:\n",
    "\n",
    "\n",
    "AI is a broad field that includes various techniques and methods, including machine learning. ML is a subset of AI that focuses on teaching machines to learn from data. DS is a field that combines statistical and computational techniques to extract insights and knowledge from data, which includes using machine learning techniques\n",
    "\n"
   ]
  },
  {
   "cell_type": "markdown",
   "id": "fc5301ab",
   "metadata": {},
   "source": [
    "Ans5:\n",
    "\n",
    "Supervised learning is a type of machine learning algorithm in which the computer is trained to recognize patterns and relationships between input data and output data, based on labeled examples\n",
    "\n",
    "Unsupervised learning is a type of machine learning in which an algorithm is trained on a dataset without any specific guidance or labeled examples.\n",
    "\n",
    "Semi-supervised learning is a type of machine learning that combines elements of both supervised and unsupervised learning. In semi-supervised learning, a dataset includes both labeled and unlabeled data. The labeled data is used to train a model, while the unlabeled data is used to improve the model's performance."
   ]
  },
  {
   "cell_type": "markdown",
   "id": "109a7735",
   "metadata": {},
   "source": [
    "Ans6:\n",
    "    \n",
    "Train-test-validate split is a common approach used in machine learning to evaluate the performance of a model. In this approach, the available data is divided into three sets: a training set, a validation set, and a testing set.\n",
    "\n",
    "Training Set:\n",
    "The training set is used to train the model. The algorithm is trained on this set, and the model parameters are adjusted until the algorithm achieves the desired level of accuracy.\n",
    "\n",
    "Validation Set:\n",
    "The validation set is used to evaluate the performance of the model during training. The algorithm is evaluated on this set, and the model's hyperparameters are tuned until the algorithm achieves the desired level of accuracy.\n",
    "\n",
    "Testing Set:\n",
    "The testing set is used to evaluate the final performance of the model. The algorithm is evaluated on this set, and the performance is reported as the final accuracy of the model."
   ]
  },
  {
   "cell_type": "markdown",
   "id": "9145aa48",
   "metadata": {},
   "source": [
    "Ans7:\n",
    "\n",
    "Unsupervised machine learning can be used for anomaly detection by identifying patterns in data that are significantly different from the normal patterns. Anomaly detection is a common use case for unsupervised learning algorithms, particularly clustering algorithms and density-based methods."
   ]
  },
  {
   "cell_type": "markdown",
   "id": "4af4c1f8",
   "metadata": {},
   "source": [
    "Ans8:\n",
    "\n",
    "supervised:\n",
    "\n",
    "    classification\n",
    "    regression\n",
    "unsupervised:\n",
    "\n",
    "    k-meam clustering\n",
    "    DBSCAN\n",
    "    "
   ]
  }
 ],
 "metadata": {
  "kernelspec": {
   "display_name": "Python 3 (ipykernel)",
   "language": "python",
   "name": "python3"
  },
  "language_info": {
   "codemirror_mode": {
    "name": "ipython",
    "version": 3
   },
   "file_extension": ".py",
   "mimetype": "text/x-python",
   "name": "python",
   "nbconvert_exporter": "python",
   "pygments_lexer": "ipython3",
   "version": "3.9.13"
  }
 },
 "nbformat": 4,
 "nbformat_minor": 5
}
